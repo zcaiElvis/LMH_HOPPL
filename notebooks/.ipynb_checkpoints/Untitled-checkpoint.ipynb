{
 "cells": [
  {
   "cell_type": "code",
   "execution_count": 9,
   "id": "a0d2eb2d",
   "metadata": {},
   "outputs": [],
   "source": [
    "import torch\n",
    "import torch.distributions as dist"
   ]
  },
  {
   "cell_type": "code",
   "execution_count": 10,
   "id": "8685667a",
   "metadata": {},
   "outputs": [],
   "source": [
    "def p_C(c:torch.Tensor)->torch.Tensor:\n",
    "    probs = torch.tensor([0.5,0.5])\n",
    "    d = dist.Categorical(probs)\n",
    "    return torch.exp(d.log_prob(c))\n",
    "\n",
    "\n",
    "def p_S_given_C(s: torch.Tensor,c: torch.Tensor) -> torch.Tensor:\n",
    "    probs = torch.tensor([[0.5, 0.9], [0.5, 0.1]])\n",
    "    d = dist.Categorical(probs.t())\n",
    "    lp = d.log_prob(s)[c.detach()]\n",
    "    return torch.exp(lp)\n",
    "\n",
    "\n",
    "def p_R_given_C(r: torch.Tensor, c: torch.Tensor) -> torch.Tensor:\n",
    "    probs = torch.tensor([[0.8, 0.2], [0.2, 0.8]])\n",
    "    d = dist.Categorical(probs.t())\n",
    "    lp = d.log_prob(r)[c.detach()]\n",
    "    return torch.exp(lp)\n",
    "\n",
    "def p_W_given_S_R(w: torch.Tensor, s: torch.Tensor, r: torch.Tensor) -> torch.Tensor:\n",
    "    probs = torch.tensor([\n",
    "        [[1.0, 0.1], [0.1, 0.01]],  # w = False\n",
    "        [[0.0, 0.9], [0.9, 0.99]],  # w = True\n",
    "    ])\n",
    "    return probs[w.detach(), s.detach(), r.detach()]"
   ]
  },
  {
   "cell_type": "code",
   "execution_count": 11,
   "id": "b19bdbe2",
   "metadata": {},
   "outputs": [
    {
     "data": {
      "text/plain": [
       "tensor(0.9900)"
      ]
     },
     "execution_count": 11,
     "metadata": {},
     "output_type": "execute_result"
    }
   ],
   "source": [
    "p_W_given_S_R(tc.tensor(1), tc.tensor(1), tc.tensor(1))"
   ]
  },
  {
   "cell_type": "code",
   "execution_count": 12,
   "id": "eeaae37a",
   "metadata": {},
   "outputs": [],
   "source": [
    "p = torch.zeros((2,2,2,2))\n",
    "for c in range(2):\n",
    "    for s in range(2):\n",
    "        for r in range(2):\n",
    "            for w in range(2):\n",
    "                p[c, s, r, w] = p_C(torch.tensor(c))*p_S_given_C(torch.tensor(s), torch.tensor(c))*p_R_given_C(torch.tensor(r), torch.tensor(c))*p_W_given_S_R(torch.tensor(w), torch.tensor(s), torch.tensor(r))"
   ]
  },
  {
   "cell_type": "markdown",
   "id": "9f9cb5d1",
   "metadata": {},
   "source": [
    "cloudy, *sprinker*, rainy, *wet*"
   ]
  },
  {
   "cell_type": "code",
   "execution_count": 15,
   "id": "cda91b52",
   "metadata": {},
   "outputs": [
    {
     "data": {
      "text/plain": [
       "tensor(0.3240)"
      ]
     },
     "execution_count": 15,
     "metadata": {},
     "output_type": "execute_result"
    }
   ],
   "source": [
    "p[1,1,1,1]"
   ]
  },
  {
   "cell_type": "code",
   "execution_count": 16,
   "id": "f755ae12",
   "metadata": {},
   "outputs": [
    {
     "data": {
      "text/plain": [
       "tensor(0.0400)"
      ]
     },
     "execution_count": 16,
     "metadata": {},
     "output_type": "execute_result"
    }
   ],
   "source": [
    "p[1,1,1,0] + p[1,1,1,1]"
   ]
  },
  {
   "cell_type": "code",
   "execution_count": null,
   "id": "adbcac87",
   "metadata": {},
   "outputs": [],
   "source": []
  }
 ],
 "metadata": {
  "kernelspec": {
   "display_name": "Python 3 (ipykernel)",
   "language": "python",
   "name": "python3"
  },
  "language_info": {
   "codemirror_mode": {
    "name": "ipython",
    "version": 3
   },
   "file_extension": ".py",
   "mimetype": "text/x-python",
   "name": "python",
   "nbconvert_exporter": "python",
   "pygments_lexer": "ipython3",
   "version": "3.10.7"
  }
 },
 "nbformat": 4,
 "nbformat_minor": 5
}
