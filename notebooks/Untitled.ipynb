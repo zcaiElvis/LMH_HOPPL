{
 "cells": [
  {
   "cell_type": "code",
   "execution_count": 9,
   "id": "abd85cc3",
   "metadata": {},
   "outputs": [],
   "source": [
    "import torch\n",
    "import torch.distributions as dist"
   ]
  },
  {
   "cell_type": "code",
   "execution_count": 10,
   "id": "89bfe396",
   "metadata": {},
   "outputs": [],
   "source": [
    "def p_C(c:torch.Tensor)->torch.Tensor:\n",
    "    probs = torch.tensor([0.5,0.5])\n",
    "    d = dist.Categorical(probs)\n",
    "    return torch.exp(d.log_prob(c))\n",
    "\n",
    "\n",
    "def p_S_given_C(s: torch.Tensor,c: torch.Tensor) -> torch.Tensor:\n",
    "    probs = torch.tensor([[0.5, 0.9], [0.5, 0.1]])\n",
    "    d = dist.Categorical(probs.t())\n",
    "    lp = d.log_prob(s)[c.detach()]\n",
    "    return torch.exp(lp)\n",
    "\n",
    "\n",
    "def p_R_given_C(r: torch.Tensor, c: torch.Tensor) -> torch.Tensor:\n",
    "    probs = torch.tensor([[0.8, 0.2], [0.2, 0.8]])\n",
    "    d = dist.Categorical(probs.t())\n",
    "    lp = d.log_prob(r)[c.detach()]\n",
    "    return torch.exp(lp)\n",
    "\n",
    "def p_W_given_S_R(w: torch.Tensor, s: torch.Tensor, r: torch.Tensor) -> torch.Tensor:\n",
    "    probs = torch.tensor([\n",
    "        [[1.0, 0.1], [0.1, 0.01]],  # w = False\n",
    "        [[0.0, 0.9], [0.9, 0.99]],  # w = True\n",
    "    ])\n",
    "    return probs[w.detach(), s.detach(), r.detach()]"
   ]
  },
  {
   "cell_type": "code",
   "execution_count": 12,
   "id": "161fea48",
   "metadata": {},
   "outputs": [],
   "source": [
    "p = torch.zeros((2,2,2,2))\n",
    "for c in range(2):\n",
    "    for s in range(2):\n",
    "        for r in range(2):\n",
    "            for w in range(2):\n",
    "                p[c, s, r, w] = p_C(torch.tensor(c))*p_S_given_C(torch.tensor(s), torch.tensor(c))*p_R_given_C(torch.tensor(r), torch.tensor(c))*p_W_given_S_R(torch.tensor(w), torch.tensor(s), torch.tensor(r))"
   ]
  },
  {
   "cell_type": "markdown",
   "id": "cb060fed",
   "metadata": {},
   "source": [
    "cloudy, *sprinker*, rainy, *wet*"
   ]
  },
  {
   "cell_type": "code",
   "execution_count": 15,
   "id": "001edc1b",
   "metadata": {},
   "outputs": [
    {
     "data": {
      "text/plain": [
       "tensor(0.3240)"
      ]
     },
     "execution_count": 15,
     "metadata": {},
     "output_type": "execute_result"
    }
   ],
   "source": [
    "p[1,1,1,1]"
   ]
  },
  {
   "cell_type": "code",
   "execution_count": 17,
   "id": "f2ad0a86",
   "metadata": {},
   "outputs": [
    {
     "data": {
      "text/plain": [
       "tensor(0.2000)"
      ]
     },
     "execution_count": 17,
     "metadata": {},
     "output_type": "execute_result"
    }
   ],
   "source": [
    "p[0,1,0,0] + p[0,1,0,1]"
   ]
  },
  {
   "cell_type": "code",
   "execution_count": 18,
   "id": "9356fa3b",
   "metadata": {},
   "outputs": [
    {
     "data": {
      "text/plain": [
       "tensor([[[[0.2000, 0.0000],\n",
       "          [0.0050, 0.0450]],\n",
       "\n",
       "         [[0.0200, 0.1800],\n",
       "          [0.0005, 0.0495]]],\n",
       "\n",
       "\n",
       "        [[[0.0900, 0.0000],\n",
       "          [0.0360, 0.3240]],\n",
       "\n",
       "         [[0.0010, 0.0090],\n",
       "          [0.0004, 0.0396]]]])"
      ]
     },
     "execution_count": 18,
     "metadata": {},
     "output_type": "execute_result"
    }
   ],
   "source": [
    "p"
   ]
  },
  {
   "cell_type": "code",
   "execution_count": 20,
   "id": "ace1d9b9",
   "metadata": {},
   "outputs": [],
   "source": [
    "def getprob(cloudy, rainy):\n",
    "    return p[cloudy, 1, rainy, 1]"
   ]
  },
  {
   "cell_type": "code",
   "execution_count": 34,
   "id": "421f9722",
   "metadata": {},
   "outputs": [
    {
     "data": {
      "text/plain": [
       "tensor(0.0090)"
      ]
     },
     "execution_count": 34,
     "metadata": {},
     "output_type": "execute_result"
    }
   ],
   "source": [
    "p[1,1,0,1]"
   ]
  },
  {
   "cell_type": "code",
   "execution_count": 22,
   "id": "3b5d1a13",
   "metadata": {},
   "outputs": [
    {
     "data": {
      "text/plain": [
       "tensor(0.2781)"
      ]
     },
     "execution_count": 22,
     "metadata": {},
     "output_type": "execute_result"
    }
   ],
   "source": [
    "getprob(0,0)+getprob(0,1)+getprob(1,0)+getprob(1,1)"
   ]
  },
  {
   "cell_type": "code",
   "execution_count": 37,
   "id": "dfef5533",
   "metadata": {},
   "outputs": [
    {
     "data": {
      "text/plain": [
       "tensor(0.0396)"
      ]
     },
     "execution_count": 37,
     "metadata": {},
     "output_type": "execute_result"
    }
   ],
   "source": [
    "getprob(1,1)"
   ]
  },
  {
   "cell_type": "code",
   "execution_count": null,
   "id": "c77f4d38",
   "metadata": {},
   "outputs": [],
   "source": []
  }
 ],
 "metadata": {
  "kernelspec": {
   "display_name": "Python 3 (ipykernel)",
   "language": "python",
   "name": "python3"
  },
  "language_info": {
   "codemirror_mode": {
    "name": "ipython",
    "version": 3
   },
   "file_extension": ".py",
   "mimetype": "text/x-python",
   "name": "python",
   "nbconvert_exporter": "python",
   "pygments_lexer": "ipython3",
   "version": "3.10.7"
  }
 },
 "nbformat": 4,
 "nbformat_minor": 5
}
