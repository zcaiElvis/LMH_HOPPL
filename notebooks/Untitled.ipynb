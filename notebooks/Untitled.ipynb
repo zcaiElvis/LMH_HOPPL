{
 "cells": [
  {
   "cell_type": "code",
   "execution_count": 9,
   "id": "16a063ca",
   "metadata": {},
   "outputs": [],
   "source": [
    "import torch\n",
    "import torch.distributions as dist"
   ]
  },
  {
   "cell_type": "code",
   "execution_count": 47,
   "id": "88523742",
   "metadata": {},
   "outputs": [],
   "source": [
    "def p_C(c:torch.Tensor)->torch.Tensor:\n",
    "    probs = torch.tensor([0.5,0.5])\n",
    "    d = dist.Categorical(probs)\n",
    "    return torch.exp(d.log_prob(c))\n",
    "\n",
    "\n",
    "def p_S_given_C(s: torch.Tensor,c: torch.Tensor) -> torch.Tensor:\n",
    "    probs = torch.tensor([[0.5, 0.9], [0.5, 0.1]])\n",
    "    d = dist.Categorical(probs.t())\n",
    "    lp = d.log_prob(s)[c.detach()]\n",
    "    return torch.exp(lp)\n",
    "\n",
    "\n",
    "def p_R_given_C(r: torch.Tensor, c: torch.Tensor) -> torch.Tensor:\n",
    "    probs = torch.tensor([[0.8, 0.2], [0.2, 0.8]])\n",
    "    d = dist.Categorical(probs.t())\n",
    "    lp = d.log_prob(r)[c.detach()]\n",
    "    return torch.exp(lp)\n",
    "\n",
    "def p_W_given_S_R(w: torch.Tensor, s: torch.Tensor, r: torch.Tensor) -> torch.Tensor:\n",
    "    probs = torch.tensor([\n",
    "        [[1.0, 0.1], [0.1, 0.01]],  # w = False\n",
    "        [[0.0, 0.9], [0.9, 0.99]],  # w = True\n",
    "    ])\n",
    "    return probs[w.detach(), s.detach(), r.detach()]"
   ]
  },
  {
   "cell_type": "code",
   "execution_count": 12,
   "id": "19d007f2",
   "metadata": {},
   "outputs": [],
   "source": [
    "p = torch.zeros((2,2,2,2))\n",
    "for c in range(2):\n",
    "    for s in range(2):\n",
    "        for r in range(2):\n",
    "            for w in range(2):\n",
    "                p[c, s, r, w] = p_C(torch.tensor(c))*p_S_given_C(torch.tensor(s), torch.tensor(c))*p_R_given_C(torch.tensor(r), torch.tensor(c))*p_W_given_S_R(torch.tensor(w), torch.tensor(s), torch.tensor(r))"
   ]
  },
  {
   "cell_type": "markdown",
   "id": "d991cef3",
   "metadata": {},
   "source": [
    "cloudy, *sprinker*, rainy, *wet*"
   ]
  },
  {
   "cell_type": "code",
   "execution_count": 15,
   "id": "60f2b0bf",
   "metadata": {},
   "outputs": [
    {
     "data": {
      "text/plain": [
       "tensor(0.3240)"
      ]
     },
     "execution_count": 15,
     "metadata": {},
     "output_type": "execute_result"
    }
   ],
   "source": [
    "p[1,1,1,1]"
   ]
  },
  {
   "cell_type": "code",
   "execution_count": 17,
   "id": "9cbcf8ca",
   "metadata": {},
   "outputs": [
    {
     "data": {
      "text/plain": [
       "tensor(0.2000)"
      ]
     },
     "execution_count": 17,
     "metadata": {},
     "output_type": "execute_result"
    }
   ],
   "source": [
    "p[0,1,0,0] + p[0,1,0,1]"
   ]
  },
  {
   "cell_type": "code",
   "execution_count": 18,
   "id": "be899478",
   "metadata": {},
   "outputs": [
    {
     "data": {
      "text/plain": [
       "tensor([[[[0.2000, 0.0000],\n",
       "          [0.0050, 0.0450]],\n",
       "\n",
       "         [[0.0200, 0.1800],\n",
       "          [0.0005, 0.0495]]],\n",
       "\n",
       "\n",
       "        [[[0.0900, 0.0000],\n",
       "          [0.0360, 0.3240]],\n",
       "\n",
       "         [[0.0010, 0.0090],\n",
       "          [0.0004, 0.0396]]]])"
      ]
     },
     "execution_count": 18,
     "metadata": {},
     "output_type": "execute_result"
    }
   ],
   "source": [
    "p"
   ]
  },
  {
   "cell_type": "code",
   "execution_count": 20,
   "id": "bfd77771",
   "metadata": {},
   "outputs": [],
   "source": [
    "def getprob(cloudy, rainy):\n",
    "    return p[cloudy, 1, rainy, 1]"
   ]
  },
  {
   "cell_type": "code",
   "execution_count": 40,
   "id": "57bfeda6",
   "metadata": {},
   "outputs": [
    {
     "data": {
      "text/plain": [
       "tensor(0.1800)"
      ]
     },
     "execution_count": 40,
     "metadata": {},
     "output_type": "execute_result"
    }
   ],
   "source": [
    "getprob(0,0)"
   ]
  },
  {
   "cell_type": "code",
   "execution_count": 42,
   "id": "5ddc5c1f",
   "metadata": {},
   "outputs": [
    {
     "data": {
      "text/plain": [
       "tensor(0.0495)"
      ]
     },
     "execution_count": 42,
     "metadata": {},
     "output_type": "execute_result"
    }
   ],
   "source": [
    "getprob(0,1)"
   ]
  },
  {
   "cell_type": "code",
   "execution_count": 43,
   "id": "e1aa3284",
   "metadata": {},
   "outputs": [
    {
     "data": {
      "text/plain": [
       "tensor(0.0090)"
      ]
     },
     "execution_count": 43,
     "metadata": {},
     "output_type": "execute_result"
    }
   ],
   "source": [
    "getprob(1,0)"
   ]
  },
  {
   "cell_type": "code",
   "execution_count": 44,
   "id": "af0fb6df",
   "metadata": {},
   "outputs": [
    {
     "data": {
      "text/plain": [
       "tensor(0.0396)"
      ]
     },
     "execution_count": 44,
     "metadata": {},
     "output_type": "execute_result"
    }
   ],
   "source": [
    "getprob(1,1)"
   ]
  },
  {
   "cell_type": "code",
   "execution_count": 46,
   "id": "48fefad2",
   "metadata": {},
   "outputs": [
    {
     "data": {
      "text/plain": [
       "tensor(0.0891)"
      ]
     },
     "execution_count": 46,
     "metadata": {},
     "output_type": "execute_result"
    }
   ],
   "source": [
    "getprob(0,1)+getprob(1,1)"
   ]
  },
  {
   "cell_type": "markdown",
   "id": "45c097ff",
   "metadata": {},
   "source": [
    "getprob(1,0) but get 0.18, which is getprob(0,0)"
   ]
  },
  {
   "cell_type": "markdown",
   "id": "9bbaee5f",
   "metadata": {},
   "source": [
    "0, 1 but get 0.0396, which is 1, 1"
   ]
  }
 ],
 "metadata": {
  "kernelspec": {
   "display_name": "Python 3 (ipykernel)",
   "language": "python",
   "name": "python3"
  },
  "language_info": {
   "codemirror_mode": {
    "name": "ipython",
    "version": 3
   },
   "file_extension": ".py",
   "mimetype": "text/x-python",
   "name": "python",
   "nbconvert_exporter": "python",
   "pygments_lexer": "ipython3",
   "version": "3.10.7"
  }
 },
 "nbformat": 4,
 "nbformat_minor": 5
}
